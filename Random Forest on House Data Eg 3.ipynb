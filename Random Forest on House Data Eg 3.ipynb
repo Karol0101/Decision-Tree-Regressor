{
 "cells": [
  {
   "cell_type": "code",
   "execution_count": null,
   "metadata": {},
   "outputs": [],
   "source": [
    "#In this dataset, there are total 1460 homes data with few dozen features of types : float, integer, and categorical. \n",
    "#Im going to create a regression model to estimate home's price using: random trees & random forests"
   ]
  },
  {
   "cell_type": "code",
   "execution_count": 41,
   "metadata": {},
   "outputs": [],
   "source": [
    "#imports\n",
    "import numpy as np\n",
    "import pandas as pd\n",
    "import matplotlib.pyplot as plt\n",
    "import seaborn as sns\n",
    "from scipy import stats\n",
    "from sklearn.ensemble import RandomForestClassifier\n",
    "%matplotlib inline\n"
   ]
  },
  {
   "cell_type": "code",
   "execution_count": 42,
   "metadata": {},
   "outputs": [
    {
     "name": "stdout",
     "output_type": "stream",
     "text": [
      "<class 'pandas.core.frame.DataFrame'>\n",
      "RangeIndex: 1460 entries, 0 to 1459\n",
      "Data columns (total 81 columns):\n",
      " #   Column         Non-Null Count  Dtype  \n",
      "---  ------         --------------  -----  \n",
      " 0   Id             1460 non-null   int64  \n",
      " 1   MSSubClass     1460 non-null   int64  \n",
      " 2   MSZoning       1460 non-null   object \n",
      " 3   LotFrontage    1201 non-null   float64\n",
      " 4   LotArea        1460 non-null   int64  \n",
      " 5   Street         1460 non-null   object \n",
      " 6   Alley          91 non-null     object \n",
      " 7   LotShape       1460 non-null   object \n",
      " 8   LandContour    1460 non-null   object \n",
      " 9   Utilities      1460 non-null   object \n",
      " 10  LotConfig      1460 non-null   object \n",
      " 11  LandSlope      1460 non-null   object \n",
      " 12  Neighborhood   1460 non-null   object \n",
      " 13  Condition1     1460 non-null   object \n",
      " 14  Condition2     1460 non-null   object \n",
      " 15  BldgType       1460 non-null   object \n",
      " 16  HouseStyle     1460 non-null   object \n",
      " 17  OverallQual    1460 non-null   int64  \n",
      " 18  OverallCond    1460 non-null   int64  \n",
      " 19  YearBuilt      1460 non-null   int64  \n",
      " 20  YearRemodAdd   1460 non-null   int64  \n",
      " 21  RoofStyle      1460 non-null   object \n",
      " 22  RoofMatl       1460 non-null   object \n",
      " 23  Exterior1st    1460 non-null   object \n",
      " 24  Exterior2nd    1460 non-null   object \n",
      " 25  MasVnrType     1452 non-null   object \n",
      " 26  MasVnrArea     1452 non-null   float64\n",
      " 27  ExterQual      1460 non-null   object \n",
      " 28  ExterCond      1460 non-null   object \n",
      " 29  Foundation     1460 non-null   object \n",
      " 30  BsmtQual       1423 non-null   object \n",
      " 31  BsmtCond       1423 non-null   object \n",
      " 32  BsmtExposure   1422 non-null   object \n",
      " 33  BsmtFinType1   1423 non-null   object \n",
      " 34  BsmtFinSF1     1460 non-null   int64  \n",
      " 35  BsmtFinType2   1422 non-null   object \n",
      " 36  BsmtFinSF2     1460 non-null   int64  \n",
      " 37  BsmtUnfSF      1460 non-null   int64  \n",
      " 38  TotalBsmtSF    1460 non-null   int64  \n",
      " 39  Heating        1460 non-null   object \n",
      " 40  HeatingQC      1460 non-null   object \n",
      " 41  CentralAir     1460 non-null   object \n",
      " 42  Electrical     1459 non-null   object \n",
      " 43  1stFlrSF       1460 non-null   int64  \n",
      " 44  2ndFlrSF       1460 non-null   int64  \n",
      " 45  LowQualFinSF   1460 non-null   int64  \n",
      " 46  GrLivArea      1460 non-null   int64  \n",
      " 47  BsmtFullBath   1460 non-null   int64  \n",
      " 48  BsmtHalfBath   1460 non-null   int64  \n",
      " 49  FullBath       1460 non-null   int64  \n",
      " 50  HalfBath       1460 non-null   int64  \n",
      " 51  BedroomAbvGr   1460 non-null   int64  \n",
      " 52  KitchenAbvGr   1460 non-null   int64  \n",
      " 53  KitchenQual    1460 non-null   object \n",
      " 54  TotRmsAbvGrd   1460 non-null   int64  \n",
      " 55  Functional     1460 non-null   object \n",
      " 56  Fireplaces     1460 non-null   int64  \n",
      " 57  FireplaceQu    770 non-null    object \n",
      " 58  GarageType     1379 non-null   object \n",
      " 59  GarageYrBlt    1379 non-null   float64\n",
      " 60  GarageFinish   1379 non-null   object \n",
      " 61  GarageCars     1460 non-null   int64  \n",
      " 62  GarageArea     1460 non-null   int64  \n",
      " 63  GarageQual     1379 non-null   object \n",
      " 64  GarageCond     1379 non-null   object \n",
      " 65  PavedDrive     1460 non-null   object \n",
      " 66  WoodDeckSF     1460 non-null   int64  \n",
      " 67  OpenPorchSF    1460 non-null   int64  \n",
      " 68  EnclosedPorch  1460 non-null   int64  \n",
      " 69  3SsnPorch      1460 non-null   int64  \n",
      " 70  ScreenPorch    1460 non-null   int64  \n",
      " 71  PoolArea       1460 non-null   int64  \n",
      " 72  PoolQC         7 non-null      object \n",
      " 73  Fence          281 non-null    object \n",
      " 74  MiscFeature    54 non-null     object \n",
      " 75  MiscVal        1460 non-null   int64  \n",
      " 76  MoSold         1460 non-null   int64  \n",
      " 77  YrSold         1460 non-null   int64  \n",
      " 78  SaleType       1460 non-null   object \n",
      " 79  SaleCondition  1460 non-null   object \n",
      " 80  SalePrice      1460 non-null   int64  \n",
      "dtypes: float64(3), int64(35), object(43)\n",
      "memory usage: 924.0+ KB\n"
     ]
    }
   ],
   "source": [
    "#Import the training and testing dataset\n",
    "train = pd.read_csv('train.csv')\n",
    "train_original = pd.read_csv('train.csv')\n",
    "test = pd.read_csv('test.csv')\n",
    "train.info()"
   ]
  },
  {
   "cell_type": "code",
   "execution_count": 43,
   "metadata": {},
   "outputs": [],
   "source": [
    "# It looks like we have int, float & object type features.\n",
    "#And also some of the features pretain to a small portion of \n",
    "#the 1460 smaples. For now, Let's ingore these features where \n",
    "#data is missing."
   ]
  },
  {
   "cell_type": "markdown",
   "metadata": {},
   "source": [
    "# Preprocessing Categorical Features"
   ]
  },
  {
   "cell_type": "code",
   "execution_count": 44,
   "metadata": {},
   "outputs": [],
   "source": [
    "#Let's declare a quick function to convert categorical features \n",
    "#into integer features, with the most common category of the \n",
    "#feature being converted to integer 0, the next common to 1 and \n",
    "#so on.This maybe useful later. "
   ]
  },
  {
   "cell_type": "code",
   "execution_count": 45,
   "metadata": {},
   "outputs": [
    {
     "data": {
      "text/html": [
       "<div>\n",
       "<style scoped>\n",
       "    .dataframe tbody tr th:only-of-type {\n",
       "        vertical-align: middle;\n",
       "    }\n",
       "\n",
       "    .dataframe tbody tr th {\n",
       "        vertical-align: top;\n",
       "    }\n",
       "\n",
       "    .dataframe thead th {\n",
       "        text-align: right;\n",
       "    }\n",
       "</style>\n",
       "<table border=\"1\" class=\"dataframe\">\n",
       "  <thead>\n",
       "    <tr style=\"text-align: right;\">\n",
       "      <th></th>\n",
       "      <th>Id</th>\n",
       "      <th>MSSubClass</th>\n",
       "      <th>MSZoning</th>\n",
       "      <th>LotFrontage</th>\n",
       "      <th>LotArea</th>\n",
       "      <th>Street</th>\n",
       "      <th>Alley</th>\n",
       "      <th>LotShape</th>\n",
       "      <th>LandContour</th>\n",
       "      <th>Utilities</th>\n",
       "      <th>...</th>\n",
       "      <th>PoolArea</th>\n",
       "      <th>PoolQC</th>\n",
       "      <th>Fence</th>\n",
       "      <th>MiscFeature</th>\n",
       "      <th>MiscVal</th>\n",
       "      <th>MoSold</th>\n",
       "      <th>YrSold</th>\n",
       "      <th>SaleType</th>\n",
       "      <th>SaleCondition</th>\n",
       "      <th>SalePrice</th>\n",
       "    </tr>\n",
       "  </thead>\n",
       "  <tbody>\n",
       "    <tr>\n",
       "      <th>0</th>\n",
       "      <td>1</td>\n",
       "      <td>60</td>\n",
       "      <td>RL</td>\n",
       "      <td>65.0</td>\n",
       "      <td>8450</td>\n",
       "      <td>Pave</td>\n",
       "      <td>NaN</td>\n",
       "      <td>0</td>\n",
       "      <td>Lvl</td>\n",
       "      <td>AllPub</td>\n",
       "      <td>...</td>\n",
       "      <td>0</td>\n",
       "      <td>NaN</td>\n",
       "      <td>NaN</td>\n",
       "      <td>NaN</td>\n",
       "      <td>0</td>\n",
       "      <td>2</td>\n",
       "      <td>2008</td>\n",
       "      <td>WD</td>\n",
       "      <td>Normal</td>\n",
       "      <td>208500</td>\n",
       "    </tr>\n",
       "    <tr>\n",
       "      <th>1</th>\n",
       "      <td>2</td>\n",
       "      <td>20</td>\n",
       "      <td>RL</td>\n",
       "      <td>80.0</td>\n",
       "      <td>9600</td>\n",
       "      <td>Pave</td>\n",
       "      <td>NaN</td>\n",
       "      <td>0</td>\n",
       "      <td>Lvl</td>\n",
       "      <td>AllPub</td>\n",
       "      <td>...</td>\n",
       "      <td>0</td>\n",
       "      <td>NaN</td>\n",
       "      <td>NaN</td>\n",
       "      <td>NaN</td>\n",
       "      <td>0</td>\n",
       "      <td>5</td>\n",
       "      <td>2007</td>\n",
       "      <td>WD</td>\n",
       "      <td>Normal</td>\n",
       "      <td>181500</td>\n",
       "    </tr>\n",
       "    <tr>\n",
       "      <th>2</th>\n",
       "      <td>3</td>\n",
       "      <td>60</td>\n",
       "      <td>RL</td>\n",
       "      <td>68.0</td>\n",
       "      <td>11250</td>\n",
       "      <td>Pave</td>\n",
       "      <td>NaN</td>\n",
       "      <td>1</td>\n",
       "      <td>Lvl</td>\n",
       "      <td>AllPub</td>\n",
       "      <td>...</td>\n",
       "      <td>0</td>\n",
       "      <td>NaN</td>\n",
       "      <td>NaN</td>\n",
       "      <td>NaN</td>\n",
       "      <td>0</td>\n",
       "      <td>9</td>\n",
       "      <td>2008</td>\n",
       "      <td>WD</td>\n",
       "      <td>Normal</td>\n",
       "      <td>223500</td>\n",
       "    </tr>\n",
       "    <tr>\n",
       "      <th>3</th>\n",
       "      <td>4</td>\n",
       "      <td>70</td>\n",
       "      <td>RL</td>\n",
       "      <td>60.0</td>\n",
       "      <td>9550</td>\n",
       "      <td>Pave</td>\n",
       "      <td>NaN</td>\n",
       "      <td>1</td>\n",
       "      <td>Lvl</td>\n",
       "      <td>AllPub</td>\n",
       "      <td>...</td>\n",
       "      <td>0</td>\n",
       "      <td>NaN</td>\n",
       "      <td>NaN</td>\n",
       "      <td>NaN</td>\n",
       "      <td>0</td>\n",
       "      <td>2</td>\n",
       "      <td>2006</td>\n",
       "      <td>WD</td>\n",
       "      <td>Abnorml</td>\n",
       "      <td>140000</td>\n",
       "    </tr>\n",
       "    <tr>\n",
       "      <th>4</th>\n",
       "      <td>5</td>\n",
       "      <td>60</td>\n",
       "      <td>RL</td>\n",
       "      <td>84.0</td>\n",
       "      <td>14260</td>\n",
       "      <td>Pave</td>\n",
       "      <td>NaN</td>\n",
       "      <td>1</td>\n",
       "      <td>Lvl</td>\n",
       "      <td>AllPub</td>\n",
       "      <td>...</td>\n",
       "      <td>0</td>\n",
       "      <td>NaN</td>\n",
       "      <td>NaN</td>\n",
       "      <td>NaN</td>\n",
       "      <td>0</td>\n",
       "      <td>12</td>\n",
       "      <td>2008</td>\n",
       "      <td>WD</td>\n",
       "      <td>Normal</td>\n",
       "      <td>250000</td>\n",
       "    </tr>\n",
       "    <tr>\n",
       "      <th>5</th>\n",
       "      <td>6</td>\n",
       "      <td>50</td>\n",
       "      <td>RL</td>\n",
       "      <td>85.0</td>\n",
       "      <td>14115</td>\n",
       "      <td>Pave</td>\n",
       "      <td>NaN</td>\n",
       "      <td>1</td>\n",
       "      <td>Lvl</td>\n",
       "      <td>AllPub</td>\n",
       "      <td>...</td>\n",
       "      <td>0</td>\n",
       "      <td>NaN</td>\n",
       "      <td>MnPrv</td>\n",
       "      <td>Shed</td>\n",
       "      <td>700</td>\n",
       "      <td>10</td>\n",
       "      <td>2009</td>\n",
       "      <td>WD</td>\n",
       "      <td>Normal</td>\n",
       "      <td>143000</td>\n",
       "    </tr>\n",
       "    <tr>\n",
       "      <th>6</th>\n",
       "      <td>7</td>\n",
       "      <td>20</td>\n",
       "      <td>RL</td>\n",
       "      <td>75.0</td>\n",
       "      <td>10084</td>\n",
       "      <td>Pave</td>\n",
       "      <td>NaN</td>\n",
       "      <td>0</td>\n",
       "      <td>Lvl</td>\n",
       "      <td>AllPub</td>\n",
       "      <td>...</td>\n",
       "      <td>0</td>\n",
       "      <td>NaN</td>\n",
       "      <td>NaN</td>\n",
       "      <td>NaN</td>\n",
       "      <td>0</td>\n",
       "      <td>8</td>\n",
       "      <td>2007</td>\n",
       "      <td>WD</td>\n",
       "      <td>Normal</td>\n",
       "      <td>307000</td>\n",
       "    </tr>\n",
       "    <tr>\n",
       "      <th>7</th>\n",
       "      <td>8</td>\n",
       "      <td>60</td>\n",
       "      <td>RL</td>\n",
       "      <td>NaN</td>\n",
       "      <td>10382</td>\n",
       "      <td>Pave</td>\n",
       "      <td>NaN</td>\n",
       "      <td>1</td>\n",
       "      <td>Lvl</td>\n",
       "      <td>AllPub</td>\n",
       "      <td>...</td>\n",
       "      <td>0</td>\n",
       "      <td>NaN</td>\n",
       "      <td>NaN</td>\n",
       "      <td>Shed</td>\n",
       "      <td>350</td>\n",
       "      <td>11</td>\n",
       "      <td>2009</td>\n",
       "      <td>WD</td>\n",
       "      <td>Normal</td>\n",
       "      <td>200000</td>\n",
       "    </tr>\n",
       "    <tr>\n",
       "      <th>8</th>\n",
       "      <td>9</td>\n",
       "      <td>50</td>\n",
       "      <td>RM</td>\n",
       "      <td>51.0</td>\n",
       "      <td>6120</td>\n",
       "      <td>Pave</td>\n",
       "      <td>NaN</td>\n",
       "      <td>0</td>\n",
       "      <td>Lvl</td>\n",
       "      <td>AllPub</td>\n",
       "      <td>...</td>\n",
       "      <td>0</td>\n",
       "      <td>NaN</td>\n",
       "      <td>NaN</td>\n",
       "      <td>NaN</td>\n",
       "      <td>0</td>\n",
       "      <td>4</td>\n",
       "      <td>2008</td>\n",
       "      <td>WD</td>\n",
       "      <td>Abnorml</td>\n",
       "      <td>129900</td>\n",
       "    </tr>\n",
       "    <tr>\n",
       "      <th>9</th>\n",
       "      <td>10</td>\n",
       "      <td>190</td>\n",
       "      <td>RL</td>\n",
       "      <td>50.0</td>\n",
       "      <td>7420</td>\n",
       "      <td>Pave</td>\n",
       "      <td>NaN</td>\n",
       "      <td>0</td>\n",
       "      <td>Lvl</td>\n",
       "      <td>AllPub</td>\n",
       "      <td>...</td>\n",
       "      <td>0</td>\n",
       "      <td>NaN</td>\n",
       "      <td>NaN</td>\n",
       "      <td>NaN</td>\n",
       "      <td>0</td>\n",
       "      <td>1</td>\n",
       "      <td>2008</td>\n",
       "      <td>WD</td>\n",
       "      <td>Normal</td>\n",
       "      <td>118000</td>\n",
       "    </tr>\n",
       "  </tbody>\n",
       "</table>\n",
       "<p>10 rows × 81 columns</p>\n",
       "</div>"
      ],
      "text/plain": [
       "   Id  MSSubClass MSZoning  LotFrontage  LotArea Street Alley  LotShape  \\\n",
       "0   1          60       RL         65.0     8450   Pave   NaN         0   \n",
       "1   2          20       RL         80.0     9600   Pave   NaN         0   \n",
       "2   3          60       RL         68.0    11250   Pave   NaN         1   \n",
       "3   4          70       RL         60.0     9550   Pave   NaN         1   \n",
       "4   5          60       RL         84.0    14260   Pave   NaN         1   \n",
       "5   6          50       RL         85.0    14115   Pave   NaN         1   \n",
       "6   7          20       RL         75.0    10084   Pave   NaN         0   \n",
       "7   8          60       RL          NaN    10382   Pave   NaN         1   \n",
       "8   9          50       RM         51.0     6120   Pave   NaN         0   \n",
       "9  10         190       RL         50.0     7420   Pave   NaN         0   \n",
       "\n",
       "  LandContour Utilities  ... PoolArea PoolQC  Fence MiscFeature MiscVal  \\\n",
       "0         Lvl    AllPub  ...        0    NaN    NaN         NaN       0   \n",
       "1         Lvl    AllPub  ...        0    NaN    NaN         NaN       0   \n",
       "2         Lvl    AllPub  ...        0    NaN    NaN         NaN       0   \n",
       "3         Lvl    AllPub  ...        0    NaN    NaN         NaN       0   \n",
       "4         Lvl    AllPub  ...        0    NaN    NaN         NaN       0   \n",
       "5         Lvl    AllPub  ...        0    NaN  MnPrv        Shed     700   \n",
       "6         Lvl    AllPub  ...        0    NaN    NaN         NaN       0   \n",
       "7         Lvl    AllPub  ...        0    NaN    NaN        Shed     350   \n",
       "8         Lvl    AllPub  ...        0    NaN    NaN         NaN       0   \n",
       "9         Lvl    AllPub  ...        0    NaN    NaN         NaN       0   \n",
       "\n",
       "  MoSold YrSold  SaleType  SaleCondition  SalePrice  \n",
       "0      2   2008        WD         Normal     208500  \n",
       "1      5   2007        WD         Normal     181500  \n",
       "2      9   2008        WD         Normal     223500  \n",
       "3      2   2006        WD        Abnorml     140000  \n",
       "4     12   2008        WD         Normal     250000  \n",
       "5     10   2009        WD         Normal     143000  \n",
       "6      8   2007        WD         Normal     307000  \n",
       "7     11   2009        WD         Normal     200000  \n",
       "8      4   2008        WD        Abnorml     129900  \n",
       "9      1   2008        WD         Normal     118000  \n",
       "\n",
       "[10 rows x 81 columns]"
      ]
     },
     "execution_count": 45,
     "metadata": {},
     "output_type": "execute_result"
    }
   ],
   "source": [
    "#Converting categorical feature into int feature\n",
    "\n",
    "def getObjectFeature(df, col, datalength=1460):\n",
    "    if df[col].dtype!='object':\n",
    "        print('Feature',col,'is not an object feature.')\n",
    "        return df\n",
    "    elif len([i for i in df[col].T.notnull() if i == True]) != datalength:\n",
    "        #if there is missing data\n",
    "        print('feature', col, 'is missing data.')\n",
    "        return df\n",
    "    else:\n",
    "        df1 = df\n",
    "        counts = df1[col].value_counts() #get the counts for each labelfor\n",
    "        #the feature\n",
    "        df1[col] =[counts.index.tolist().index(i) for i in df1[col]]\n",
    "        #do the conversion\n",
    "        return df1\n",
    "        #make the new int column from the conversion\n",
    "#test the function\n",
    "fcntest = getObjectFeature(train,'LotShape')\n",
    "fcntest.head(10)"
   ]
  },
  {
   "cell_type": "markdown",
   "metadata": {},
   "source": [
    "# Target variable Analysis"
   ]
  },
  {
   "cell_type": "code",
   "execution_count": 46,
   "metadata": {},
   "outputs": [],
   "source": [
    "#let's take a look at the sale price data and check for normality \n",
    "#and try to correct it"
   ]
  },
  {
   "cell_type": "code",
   "execution_count": 47,
   "metadata": {},
   "outputs": [
    {
     "data": {
      "image/png": "[encoded data removed]",
      "text/plain": [
       "<Figure size 432x288 with 1 Axes>"
      ]
     },
     "metadata": {
      "needs_background": "light"
     },
     "output_type": "display_data"
    },
    {
     "data": {
      "image/png": "[encoded data removed]",
      "text/plain": [
       "<Figure size 432x288 with 1 Axes>"
      ]
     },
     "metadata": {
      "needs_background": "light"
     },
     "output_type": "display_data"
    }
   ],
   "source": [
    "#histogram and normal probablity plot\n",
    "from scipy.stats import norm\n",
    "sns.distplot(train['SalePrice'],fit=norm)\n",
    "fig = plt.figure()\n",
    "res = stats.probplot(train['SalePrice'],plot=plt)"
   ]
  },
  {
   "cell_type": "code",
   "execution_count": 48,
   "metadata": {},
   "outputs": [],
   "source": [
    "# so, certainly not normal: we have right skeweness and the data is bit peaky. \n",
    "#Lets apply a log transform on the data and see what happens"
   ]
  },
  {
   "cell_type": "code",
   "execution_count": 49,
   "metadata": {},
   "outputs": [
    {
     "data": {
      "image/png": "[encoded data removed]",
      "text/plain": [
       "<Figure size 432x288 with 1 Axes>"
      ]
     },
     "metadata": {
      "needs_background": "light"
     },
     "output_type": "display_data"
    },
    {
     "data": {
      "image/png": "[encoded data removed]",
      "text/plain": [
       "<Figure size 432x288 with 1 Axes>"
      ]
     },
     "metadata": {
      "needs_background": "light"
     },
     "output_type": "display_data"
    }
   ],
   "source": [
    "train['SalePrice'] = np.log(train['SalePrice'])\n",
    "sns.distplot(train['SalePrice'], fit=norm)\n",
    "fig= plt.figure()\n",
    "res = stats.probplot(train['SalePrice'],plot=plt)"
   ]
  },
  {
   "cell_type": "code",
   "execution_count": 50,
   "metadata": {},
   "outputs": [],
   "source": [
    "#Now this looks much better"
   ]
  },
  {
   "cell_type": "code",
   "execution_count": 51,
   "metadata": {},
   "outputs": [],
   "source": [
    "#Now apply"
   ]
  },
  {
   "cell_type": "markdown",
   "metadata": {},
   "source": [
    "# Random Tree Regressor"
   ]
  },
  {
   "cell_type": "code",
   "execution_count": 52,
   "metadata": {},
   "outputs": [],
   "source": [
    "# we will go for a simple decision tree regressor with features: Year,Month of Sale, Lot square footage, Number of bedrooms, \n",
    "#we can test for performance and overfitting using k-fold validation, k=10 we take."
   ]
  },
  {
   "cell_type": "code",
   "execution_count": 53,
   "metadata": {},
   "outputs": [
    {
     "name": "stdout",
     "output_type": "stream",
     "text": [
      "   MoSold  YrSold  LotArea  BedroomAbvGr\n",
      "0       2    2008     8450             3\n",
      "1       5    2007     9600             3\n",
      "2       9    2008    11250             3\n",
      "3       2    2006     9550             3\n",
      "4      12    2008    14260             4\n",
      "   SalePrice\n",
      "0  12.247694\n",
      "1  12.109011\n",
      "2  12.317167\n",
      "3  11.849398\n",
      "4  12.429216\n"
     ]
    }
   ],
   "source": [
    "from sklearn.tree import DecisionTreeRegressor as dtr\n",
    "#defining the training data X\n",
    "X = train[['MoSold','YrSold','LotArea','BedroomAbvGr']]\n",
    "Y = train[['SalePrice']]\n",
    "#and the data for competetion submission\n",
    "X_test = test[['MoSold','YrSold','LotArea','BedroomAbvGr']]\n",
    "print(X.head())\n",
    "print(Y.head())"
   ]
  },
  {
   "cell_type": "code",
   "execution_count": 54,
   "metadata": {},
   "outputs": [],
   "source": [
    "#Now we can use cross validation\n"
   ]
  },
  {
   "cell_type": "code",
   "execution_count": 55,
   "metadata": {},
   "outputs": [
    {
     "name": "stdout",
     "output_type": "stream",
     "text": [
      "scores for k=10 fold validation: [-0.42099584 -0.363452   -0.35750455 -0.30144625 -0.17037433 -0.65073286\n",
      " -0.57154942 -0.64197985 -1.15471624 -0.35105134]\n",
      "Est. explained variance : -0.50 (+/- 0.53)\n"
     ]
    }
   ],
   "source": [
    "from sklearn.model_selection import cross_val_score\n",
    "DTR_1 = dtr(max_depth = None) #declare the regression model from. Let the depth be default\n",
    "#DTR_1.fit(X,Y) #fit the training data\n",
    "scores_dtr = cross_val_score(DTR_1, X,Y, cv=10, scoring='explained_variance')\n",
    "print('scores for k=10 fold validation:', scores_dtr)\n",
    "print('Est. explained variance : %0.2f (+/- %0.2f)' % (scores_dtr.mean(), scores_dtr.std()*2))"
   ]
  },
  {
   "cell_type": "code",
   "execution_count": 56,
   "metadata": {},
   "outputs": [],
   "source": [
    "#It looks like a so bad model. Let's use Random Forest regressor instead."
   ]
  },
  {
   "cell_type": "code",
   "execution_count": 57,
   "metadata": {},
   "outputs": [
    {
     "name": "stdout",
     "output_type": "stream",
     "text": [
      "estimators: 2\n",
      "Est. explained variance: -0.16 (+/- 0.23)\n",
      "\n",
      "estimators: 5\n",
      "Est. explained variance: 0.01 (+/- 0.26)\n",
      "\n",
      "estimators: 10\n",
      "Est. explained variance: 0.10 (+/- 0.20)\n",
      "\n",
      "estimators: 15\n",
      "Est. explained variance: 0.12 (+/- 0.21)\n",
      "\n",
      "estimators: 20\n",
      "Est. explained variance: 0.15 (+/- 0.16)\n",
      "\n",
      "estimators: 25\n",
      "Est. explained variance: 0.14 (+/- 0.19)\n",
      "\n",
      "estimators: 30\n",
      "Est. explained variance: 0.13 (+/- 0.21)\n",
      "\n",
      "estimators: 35\n",
      "Est. explained variance: 0.16 (+/- 0.17)\n",
      "\n",
      "estimators: 40\n",
      "Est. explained variance: 0.15 (+/- 0.16)\n",
      "\n",
      "estimators: 45\n",
      "Est. explained variance: 0.16 (+/- 0.16)\n",
      "\n",
      "estimators: 50\n",
      "Est. explained variance: 0.15 (+/- 0.18)\n",
      "\n",
      "estimators: 55\n",
      "Est. explained variance: 0.16 (+/- 0.18)\n",
      "\n",
      "estimators: 60\n",
      "Est. explained variance: 0.16 (+/- 0.19)\n",
      "\n",
      "estimators: 65\n",
      "Est. explained variance: 0.15 (+/- 0.19)\n",
      "\n",
      "estimators: 70\n",
      "Est. explained variance: 0.16 (+/- 0.18)\n",
      "\n",
      "estimators: 75\n",
      "Est. explained variance: 0.16 (+/- 0.18)\n",
      "\n",
      "estimators: 80\n",
      "Est. explained variance: 0.16 (+/- 0.18)\n",
      "\n"
     ]
    }
   ],
   "source": [
    "from sklearn.ensemble import RandomForestRegressor as rfr\n",
    "estimators = [2, 5, 10, 15, 20, 25, 30, 35, 40, 45, 50, 55, 60, 65, 70, 75, 80]\n",
    "mean_rfrs = []\n",
    "std_rfrs_upper = []\n",
    "std_rfrs_lower = []\n",
    "yt = [i for i in Y['SalePrice']] # quick pre-processing of the target\n",
    "np.random.seed(11111)\n",
    "for i in estimators:\n",
    "    model = rfr(n_estimators=i,max_depth=None)\n",
    "    scores_rfr = cross_val_score(model,X,yt,cv=10,scoring='explained_variance')\n",
    "    print('estimators:',i)\n",
    "#     print('explained variance scores for k=10 fold validation:',scores_rfr)\n",
    "    print(\"Est. explained variance: %0.2f (+/- %0.2f)\" % (scores_rfr.mean(), scores_rfr.std() * 2))\n",
    "    print('')\n",
    "    mean_rfrs.append(scores_rfr.mean())\n",
    "    std_rfrs_upper.append(scores_rfr.mean()+scores_rfr.std()*2) # for error plotting\n",
    "    std_rfrs_lower.append(scores_rfr.mean()-scores_rfr.std()*2) # for error plotting\n"
   ]
  },
  {
   "cell_type": "code",
   "execution_count": 58,
   "metadata": {},
   "outputs": [
    {
     "data": {
      "image/png": "[encoded data removed]",
      "text/plain": [
       "<Figure size 864x576 with 1 Axes>"
      ]
     },
     "metadata": {
      "needs_background": "light"
     },
     "output_type": "display_data"
    }
   ],
   "source": [
    "#and plot\n",
    "\n",
    "fig = plt.figure(figsize=(12,8))\n",
    "ax = fig.add_subplot(111)\n",
    "ax.plot(estimators, mean_rfrs, marker='o', linewidth=4, markersize=12)\n",
    "ax.fill_between(estimators, std_rfrs_lower, std_rfrs_upper, facecolor='green',alpha=0.3, interpolate=True)\n",
    "ax.set_ylim([-.3,1])\n",
    "ax.set_xlim([0,80])\n",
    "plt.title('Expected Variance of Random Forest Regressor')\n",
    "plt.ylabel('Expected Variance')\n",
    "plt.xlabel('Trees in Forest')\n",
    "plt.grid()\n",
    "plt.show()"
   ]
  },
  {
   "cell_type": "code",
   "execution_count": 59,
   "metadata": {},
   "outputs": [],
   "source": [
    "#Yeah, the results are still absolutely awful. But, at least the \n",
    "#estimated means for explained variance are positive, which is a\n",
    "#small improvement. We probably need more features, considering \n",
    "#how poor even heavily populated forests perform. Let's start by \n",
    "#adding a few more features and seeing what happens..."
   ]
  },
  {
   "cell_type": "code",
   "execution_count": 60,
   "metadata": {},
   "outputs": [
    {
     "name": "stderr",
     "output_type": "stream",
     "text": [
      "C:\\Users\\PC\\anaconda3\\lib\\site-packages\\ipykernel_launcher.py:15: SettingWithCopyWarning: \n",
      "A value is trying to be set on a copy of a slice from a DataFrame.\n",
      "Try using .loc[row_indexer,col_indexer] = value instead\n",
      "\n",
      "See the caveats in the documentation: https://pandas.pydata.org/pandas-docs/stable/user_guide/indexing.html#returning-a-view-versus-a-copy\n",
      "  from ipykernel import kernelapp as app\n"
     ]
    },
    {
     "data": {
      "text/html": [
       "<div>\n",
       "<style scoped>\n",
       "    .dataframe tbody tr th:only-of-type {\n",
       "        vertical-align: middle;\n",
       "    }\n",
       "\n",
       "    .dataframe tbody tr th {\n",
       "        vertical-align: top;\n",
       "    }\n",
       "\n",
       "    .dataframe thead th {\n",
       "        text-align: right;\n",
       "    }\n",
       "</style>\n",
       "<table border=\"1\" class=\"dataframe\">\n",
       "  <thead>\n",
       "    <tr style=\"text-align: right;\">\n",
       "      <th></th>\n",
       "      <th>MoSold</th>\n",
       "      <th>YrSold</th>\n",
       "      <th>LotArea</th>\n",
       "      <th>BedroomAbvGr</th>\n",
       "      <th>FullBath</th>\n",
       "      <th>HalfBath</th>\n",
       "      <th>TotRmsAbvGrd</th>\n",
       "      <th>YearBuilt</th>\n",
       "      <th>YearRemodAdd</th>\n",
       "      <th>LotShape</th>\n",
       "      <th>Utilities</th>\n",
       "    </tr>\n",
       "  </thead>\n",
       "  <tbody>\n",
       "    <tr>\n",
       "      <th>0</th>\n",
       "      <td>2</td>\n",
       "      <td>2008</td>\n",
       "      <td>8450</td>\n",
       "      <td>3</td>\n",
       "      <td>2</td>\n",
       "      <td>1</td>\n",
       "      <td>8</td>\n",
       "      <td>2003</td>\n",
       "      <td>2003</td>\n",
       "      <td>0</td>\n",
       "      <td>0</td>\n",
       "    </tr>\n",
       "    <tr>\n",
       "      <th>1</th>\n",
       "      <td>5</td>\n",
       "      <td>2007</td>\n",
       "      <td>9600</td>\n",
       "      <td>3</td>\n",
       "      <td>2</td>\n",
       "      <td>0</td>\n",
       "      <td>6</td>\n",
       "      <td>1976</td>\n",
       "      <td>1976</td>\n",
       "      <td>0</td>\n",
       "      <td>0</td>\n",
       "    </tr>\n",
       "    <tr>\n",
       "      <th>2</th>\n",
       "      <td>9</td>\n",
       "      <td>2008</td>\n",
       "      <td>11250</td>\n",
       "      <td>3</td>\n",
       "      <td>2</td>\n",
       "      <td>1</td>\n",
       "      <td>6</td>\n",
       "      <td>2001</td>\n",
       "      <td>2002</td>\n",
       "      <td>1</td>\n",
       "      <td>0</td>\n",
       "    </tr>\n",
       "    <tr>\n",
       "      <th>3</th>\n",
       "      <td>2</td>\n",
       "      <td>2006</td>\n",
       "      <td>9550</td>\n",
       "      <td>3</td>\n",
       "      <td>1</td>\n",
       "      <td>0</td>\n",
       "      <td>7</td>\n",
       "      <td>1915</td>\n",
       "      <td>1970</td>\n",
       "      <td>1</td>\n",
       "      <td>0</td>\n",
       "    </tr>\n",
       "    <tr>\n",
       "      <th>4</th>\n",
       "      <td>12</td>\n",
       "      <td>2008</td>\n",
       "      <td>14260</td>\n",
       "      <td>4</td>\n",
       "      <td>2</td>\n",
       "      <td>1</td>\n",
       "      <td>9</td>\n",
       "      <td>2000</td>\n",
       "      <td>2000</td>\n",
       "      <td>1</td>\n",
       "      <td>0</td>\n",
       "    </tr>\n",
       "  </tbody>\n",
       "</table>\n",
       "</div>"
      ],
      "text/plain": [
       "   MoSold  YrSold  LotArea  BedroomAbvGr  FullBath  HalfBath  TotRmsAbvGrd  \\\n",
       "0       2    2008     8450             3         2         1             8   \n",
       "1       5    2007     9600             3         2         0             6   \n",
       "2       9    2008    11250             3         2         1             6   \n",
       "3       2    2006     9550             3         1         0             7   \n",
       "4      12    2008    14260             4         2         1             9   \n",
       "\n",
       "   YearBuilt  YearRemodAdd  LotShape  Utilities  \n",
       "0       2003          2003         0          0  \n",
       "1       1976          1976         0          0  \n",
       "2       2001          2002         1          0  \n",
       "3       1915          1970         1          0  \n",
       "4       2000          2000         1          0  "
      ]
     },
     "execution_count": 60,
     "metadata": {},
     "output_type": "execute_result"
    }
   ],
   "source": [
    "#list all the features we want. This is still arbitary.\n",
    "included_features = ['MoSold','YrSold','LotArea','BedroomAbvGr','FullBath','HalfBath','TotRmsAbvGrd','YearBuilt','YearRemodAdd','LotShape','Utilities']\n",
    "#define the training data X\n",
    "X = train[included_features]\n",
    "Y = train[['SalePrice']]\n",
    "#and the data for the competetion submission\n",
    "X_test = test[included_features]\n",
    "#transform categorical data if included in X....\n",
    "for col in list (X):\n",
    "    if X[col].dtype == 'object':\n",
    "        X = getObjectFeature(X, col)\n",
    "X.head()"
   ]
  },
  {
   "cell_type": "code",
   "execution_count": 61,
   "metadata": {},
   "outputs": [
    {
     "name": "stdout",
     "output_type": "stream",
     "text": [
      "estimators: 2\n",
      "Est. explained variance: 0.58 (+/- 0.17)\n",
      "\n",
      "estimators: 5\n",
      "Est. explained variance: 0.67 (+/- 0.09)\n",
      "\n",
      "estimators: 10\n",
      "Est. explained variance: 0.69 (+/- 0.10)\n",
      "\n",
      "estimators: 15\n",
      "Est. explained variance: 0.69 (+/- 0.09)\n",
      "\n",
      "estimators: 20\n",
      "Est. explained variance: 0.70 (+/- 0.09)\n",
      "\n",
      "estimators: 25\n",
      "Est. explained variance: 0.70 (+/- 0.10)\n",
      "\n",
      "estimators: 30\n",
      "Est. explained variance: 0.71 (+/- 0.08)\n",
      "\n",
      "estimators: 35\n",
      "Est. explained variance: 0.71 (+/- 0.09)\n",
      "\n",
      "estimators: 40\n",
      "Est. explained variance: 0.71 (+/- 0.10)\n",
      "\n",
      "estimators: 45\n",
      "Est. explained variance: 0.72 (+/- 0.08)\n",
      "\n",
      "estimators: 50\n",
      "Est. explained variance: 0.71 (+/- 0.09)\n",
      "\n",
      "estimators: 55\n",
      "Est. explained variance: 0.72 (+/- 0.09)\n",
      "\n",
      "estimators: 60\n",
      "Est. explained variance: 0.72 (+/- 0.10)\n",
      "\n",
      "estimators: 65\n",
      "Est. explained variance: 0.71 (+/- 0.08)\n",
      "\n",
      "estimators: 70\n",
      "Est. explained variance: 0.71 (+/- 0.09)\n",
      "\n",
      "estimators: 75\n",
      "Est. explained variance: 0.72 (+/- 0.09)\n",
      "\n",
      "estimators: 80\n",
      "Est. explained variance: 0.72 (+/- 0.09)\n",
      "\n"
     ]
    }
   ],
   "source": [
    "# define the number of estimators to consider\n",
    "estimators = [2, 5, 10, 15, 20, 25, 30, 35, 40, 45, 50, 55, 60, 65, 70, 75, 80]\n",
    "mean_rfrs = []\n",
    "std_rfrs_upper = []\n",
    "std_rfrs_lower = []\n",
    "yt = [i for i in Y['SalePrice']]\n",
    "np.random.seed(11111)\n",
    "#for each number of estimators , fit the model and find the results for B-fold \n",
    "#cross validation\n",
    "for i in estimators:\n",
    "    model = rfr(n_estimators=i,max_depth=None)\n",
    "    scores_rfr = cross_val_score(model,X,yt,cv=10,scoring='explained_variance')\n",
    "    print('estimators:', i)\n",
    "    #print the explained variance scores for k=10 cross validation\n",
    "    print('Est. explained variance: %0.2f (+/- %0.2f)' % (scores_rfr.mean(),scores_rfr.std()*2))\n",
    "    print('')\n",
    "    mean_rfrs.append(scores_rfr.mean())\n",
    "    std_rfrs_upper.append(scores_rfr.mean() + scores_rfr.std()*2) # for error or plotting\n",
    "    std_rfrs_lower.append(scores_rfr.mean() - scores_rfr.std()*2) #for error plotting\n",
    "    "
   ]
  },
  {
   "cell_type": "code",
   "execution_count": 62,
   "metadata": {},
   "outputs": [
    {
     "data": {
      "image/png": "[encoded data removed]",
      "text/plain": [
       "<Figure size 864x576 with 1 Axes>"
      ]
     },
     "metadata": {
      "needs_background": "light"
     },
     "output_type": "display_data"
    }
   ],
   "source": [
    "#Now plot again\n",
    "fig = plt.figure(figsize=(12,8))\n",
    "ax = fig.add_subplot(111)\n",
    "ax.plot(estimators, mean_rfrs, marker='o',linewidth=4,markersize=12)\n",
    "ax.fill_between(estimators, std_rfrs_lower, std_rfrs_upper, facecolor='green',alpha=0.3, interpolate=True)\n",
    "ax.set_ylim([-.2,1])\n",
    "ax.set_xlim([0,80])\n",
    "plt.title('Expected Variance of Random Forest Regressor')\n",
    "plt.ylabel('Expected Variance')\n",
    "plt.xlabel('Trees in Forest')\n",
    "plt.grid()\n",
    "plt.show()"
   ]
  },
  {
   "cell_type": "code",
   "execution_count": 63,
   "metadata": {},
   "outputs": [],
   "source": [
    "#It is clearly preety better "
   ]
  },
  {
   "cell_type": "code",
   "execution_count": null,
   "metadata": {},
   "outputs": [],
   "source": [
    "#Let's stick with random forest regression for now, but let's try to be more scientific about the features we select for training the forests. Let's do some feature analysis.\n",
    "\n",
    "#First, let's collect all the available features and transform the categorical features where necessary...."
   ]
  },
  {
   "cell_type": "code",
   "execution_count": 64,
   "metadata": {},
   "outputs": [
    {
     "name": "stderr",
     "output_type": "stream",
     "text": [
      "C:\\Users\\PC\\anaconda3\\lib\\site-packages\\ipykernel_launcher.py:15: SettingWithCopyWarning: \n",
      "A value is trying to be set on a copy of a slice from a DataFrame.\n",
      "Try using .loc[row_indexer,col_indexer] = value instead\n",
      "\n",
      "See the caveats in the documentation: https://pandas.pydata.org/pandas-docs/stable/user_guide/indexing.html#returning-a-view-versus-a-copy\n",
      "  from ipykernel import kernelapp as app\n"
     ]
    },
    {
     "data": {
      "text/html": [
       "<div>\n",
       "<style scoped>\n",
       "    .dataframe tbody tr th:only-of-type {\n",
       "        vertical-align: middle;\n",
       "    }\n",
       "\n",
       "    .dataframe tbody tr th {\n",
       "        vertical-align: top;\n",
       "    }\n",
       "\n",
       "    .dataframe thead th {\n",
       "        text-align: right;\n",
       "    }\n",
       "</style>\n",
       "<table border=\"1\" class=\"dataframe\">\n",
       "  <thead>\n",
       "    <tr style=\"text-align: right;\">\n",
       "      <th></th>\n",
       "      <th>Id</th>\n",
       "      <th>MSSubClass</th>\n",
       "      <th>MSZoning</th>\n",
       "      <th>LotArea</th>\n",
       "      <th>Street</th>\n",
       "      <th>LotShape</th>\n",
       "      <th>LandContour</th>\n",
       "      <th>Utilities</th>\n",
       "      <th>LotConfig</th>\n",
       "      <th>LandSlope</th>\n",
       "      <th>...</th>\n",
       "      <th>OpenPorchSF</th>\n",
       "      <th>EnclosedPorch</th>\n",
       "      <th>3SsnPorch</th>\n",
       "      <th>ScreenPorch</th>\n",
       "      <th>PoolArea</th>\n",
       "      <th>MiscVal</th>\n",
       "      <th>MoSold</th>\n",
       "      <th>YrSold</th>\n",
       "      <th>SaleType</th>\n",
       "      <th>SaleCondition</th>\n",
       "    </tr>\n",
       "  </thead>\n",
       "  <tbody>\n",
       "    <tr>\n",
       "      <th>0</th>\n",
       "      <td>1</td>\n",
       "      <td>60</td>\n",
       "      <td>0</td>\n",
       "      <td>8450</td>\n",
       "      <td>0</td>\n",
       "      <td>0</td>\n",
       "      <td>0</td>\n",
       "      <td>0</td>\n",
       "      <td>0</td>\n",
       "      <td>0</td>\n",
       "      <td>...</td>\n",
       "      <td>61</td>\n",
       "      <td>0</td>\n",
       "      <td>0</td>\n",
       "      <td>0</td>\n",
       "      <td>0</td>\n",
       "      <td>0</td>\n",
       "      <td>2</td>\n",
       "      <td>2008</td>\n",
       "      <td>0</td>\n",
       "      <td>0</td>\n",
       "    </tr>\n",
       "    <tr>\n",
       "      <th>1</th>\n",
       "      <td>2</td>\n",
       "      <td>20</td>\n",
       "      <td>0</td>\n",
       "      <td>9600</td>\n",
       "      <td>0</td>\n",
       "      <td>0</td>\n",
       "      <td>0</td>\n",
       "      <td>0</td>\n",
       "      <td>3</td>\n",
       "      <td>0</td>\n",
       "      <td>...</td>\n",
       "      <td>0</td>\n",
       "      <td>0</td>\n",
       "      <td>0</td>\n",
       "      <td>0</td>\n",
       "      <td>0</td>\n",
       "      <td>0</td>\n",
       "      <td>5</td>\n",
       "      <td>2007</td>\n",
       "      <td>0</td>\n",
       "      <td>0</td>\n",
       "    </tr>\n",
       "    <tr>\n",
       "      <th>2</th>\n",
       "      <td>3</td>\n",
       "      <td>60</td>\n",
       "      <td>0</td>\n",
       "      <td>11250</td>\n",
       "      <td>0</td>\n",
       "      <td>1</td>\n",
       "      <td>0</td>\n",
       "      <td>0</td>\n",
       "      <td>0</td>\n",
       "      <td>0</td>\n",
       "      <td>...</td>\n",
       "      <td>42</td>\n",
       "      <td>0</td>\n",
       "      <td>0</td>\n",
       "      <td>0</td>\n",
       "      <td>0</td>\n",
       "      <td>0</td>\n",
       "      <td>9</td>\n",
       "      <td>2008</td>\n",
       "      <td>0</td>\n",
       "      <td>0</td>\n",
       "    </tr>\n",
       "    <tr>\n",
       "      <th>3</th>\n",
       "      <td>4</td>\n",
       "      <td>70</td>\n",
       "      <td>0</td>\n",
       "      <td>9550</td>\n",
       "      <td>0</td>\n",
       "      <td>1</td>\n",
       "      <td>0</td>\n",
       "      <td>0</td>\n",
       "      <td>1</td>\n",
       "      <td>0</td>\n",
       "      <td>...</td>\n",
       "      <td>35</td>\n",
       "      <td>272</td>\n",
       "      <td>0</td>\n",
       "      <td>0</td>\n",
       "      <td>0</td>\n",
       "      <td>0</td>\n",
       "      <td>2</td>\n",
       "      <td>2006</td>\n",
       "      <td>0</td>\n",
       "      <td>2</td>\n",
       "    </tr>\n",
       "    <tr>\n",
       "      <th>4</th>\n",
       "      <td>5</td>\n",
       "      <td>60</td>\n",
       "      <td>0</td>\n",
       "      <td>14260</td>\n",
       "      <td>0</td>\n",
       "      <td>1</td>\n",
       "      <td>0</td>\n",
       "      <td>0</td>\n",
       "      <td>3</td>\n",
       "      <td>0</td>\n",
       "      <td>...</td>\n",
       "      <td>84</td>\n",
       "      <td>0</td>\n",
       "      <td>0</td>\n",
       "      <td>0</td>\n",
       "      <td>0</td>\n",
       "      <td>0</td>\n",
       "      <td>12</td>\n",
       "      <td>2008</td>\n",
       "      <td>0</td>\n",
       "      <td>0</td>\n",
       "    </tr>\n",
       "  </tbody>\n",
       "</table>\n",
       "<p>5 rows × 61 columns</p>\n",
       "</div>"
      ],
      "text/plain": [
       "   Id  MSSubClass  MSZoning  LotArea  Street  LotShape  LandContour  \\\n",
       "0   1          60         0     8450       0         0            0   \n",
       "1   2          20         0     9600       0         0            0   \n",
       "2   3          60         0    11250       0         1            0   \n",
       "3   4          70         0     9550       0         1            0   \n",
       "4   5          60         0    14260       0         1            0   \n",
       "\n",
       "   Utilities  LotConfig  LandSlope  ...  OpenPorchSF  EnclosedPorch  \\\n",
       "0          0          0          0  ...           61              0   \n",
       "1          0          3          0  ...            0              0   \n",
       "2          0          0          0  ...           42              0   \n",
       "3          0          1          0  ...           35            272   \n",
       "4          0          3          0  ...           84              0   \n",
       "\n",
       "   3SsnPorch  ScreenPorch  PoolArea  MiscVal  MoSold  YrSold  SaleType  \\\n",
       "0          0            0         0        0       2    2008         0   \n",
       "1          0            0         0        0       5    2007         0   \n",
       "2          0            0         0        0       9    2008         0   \n",
       "3          0            0         0        0       2    2006         0   \n",
       "4          0            0         0        0      12    2008         0   \n",
       "\n",
       "   SaleCondition  \n",
       "0              0  \n",
       "1              0  \n",
       "2              0  \n",
       "3              2  \n",
       "4              0  \n",
       "\n",
       "[5 rows x 61 columns]"
      ]
     },
     "execution_count": 64,
     "metadata": {},
     "output_type": "execute_result"
    }
   ],
   "source": [
    "import sklearn.feature_selection as fs\n",
    "train = pd.read_csv('train.csv')\n",
    "train['SalePrice'] = np.log(train['SalePrice'])\n",
    "#First let's include every feature that has data for all 1460 houses in the data set\n",
    "included_features = [col for col in list(train) \n",
    "                    if len([i for i in train[col].T.notnull() if i== True])==1460 and col != 'SalePrice' and col!='id']\n",
    "#define the training data X\n",
    "X = train[included_features] #the feature data\n",
    "Y = train[['SalePrice']] #the target\n",
    "yt = [i for i in Y['SalePrice']] #the target list\n",
    "#and the data for the competetion submission\n",
    "X_test = test[included_features]\n",
    "#transform categorical data if included in X..\n",
    "for col in list(X):\n",
    "    if X[col].dtype == 'object':\n",
    "        X = getObjectFeature(X,col)\n",
    "X.head()\n"
   ]
  },
  {
   "cell_type": "markdown",
   "metadata": {},
   "source": [
    "# Mutual Information Regression Metric for Feature Ranking"
   ]
  },
  {
   "cell_type": "markdown",
   "metadata": {},
   "source": [
    "We will use mutual information regression for feature ranking anf selection. This metric measures the dependence between two random variables, in this case each feature in the data set and the sale price regression target. Note that this doesn't consider combinations of feature values (for example: the dependence between sales price and the year of sale combined with overall quality), which may also be useful."
   ]
  },
  {
   "cell_type": "code",
   "execution_count": 65,
   "metadata": {},
   "outputs": [
    {
     "name": "stdout",
     "output_type": "stream",
     "text": [
      "[['OverallQual' '0.5136381721742793']\n",
      " ['GrLivArea' '0.3703627611744371']\n",
      " ['GarageCars' '0.36306786180931905']\n",
      " ['KitchenQual' '0.3338163973982087']\n",
      " ['ExterQual' '0.3287640972504198']\n",
      " ['GarageArea' '0.2885644188969745']\n",
      " ['TotalBsmtSF' '0.2659845106806378']\n",
      " ['FullBath' '0.2622707877138404']\n",
      " ['1stFlrSF' '0.2619947306281647']\n",
      " ['YearBuilt' '0.2596084333686104']\n",
      " ['YearRemodAdd' '0.1960082277699473']\n",
      " ['Foundation' '0.19562658098485675']\n",
      " ['TotRmsAbvGrd' '0.1915020533249101']\n",
      " ['Fireplaces' '0.17031997732270887']\n",
      " ['HeatingQC' '0.16995592191050113']\n",
      " ['BsmtFinSF1' '0.13108811121442643']\n",
      " ['MSZoning' '0.12148616668761925']\n",
      " ['OverallCond' '0.11349373486797587']\n",
      " ['2ndFlrSF' '0.10867375088832265']\n",
      " ['LotShape' '0.0979153207264496']\n",
      " ['HalfBath' '0.08768083621946698']\n",
      " ['LotArea' '0.08751873685816003']\n",
      " ['SaleType' '0.07861772114711596']\n",
      " ['SaleCondition' '0.07460727173171389']\n",
      " ['BedroomAbvGr' '0.0676400172657381']\n",
      " ['CentralAir' '0.06392230608117333']\n",
      " ['MSSubClass' '0.062148659699976516']\n",
      " ['OpenPorchSF' '0.05792272825314737']\n",
      " ['Neighborhood' '0.05378302220764386']\n",
      " ['HouseStyle' '0.050648733624558684']\n",
      " ['BsmtUnfSF' '0.050405165246758976']\n",
      " ['PavedDrive' '0.050023798748715764']\n",
      " ['WoodDeckSF' '0.047013918082225103']\n",
      " ['BldgType' '0.043014236558742924']\n",
      " ['Exterior2nd' '0.03190929610856186']\n",
      " ['LandContour' '0.02914699396557552']\n",
      " ['Exterior1st' '0.02723160652902057']\n",
      " ['ExterCond' '0.023178101995340095']\n",
      " ['BsmtFullBath' '0.022159283894149784']\n",
      " ['EnclosedPorch' '0.02102498148210108']\n",
      " ['KitchenAbvGr' '0.017356550178447616']\n",
      " ['LotConfig' '0.01623679140129264']\n",
      " ['Condition1' '0.016227790056784874']\n",
      " ['BsmtHalfBath' '0.015723598437626052']\n",
      " ['YrSold' '0.014816807327972636']\n",
      " ['ScreenPorch' '0.012872782506253566']\n",
      " ['Heating' '0.012577351462557784']\n",
      " ['RoofStyle' '0.011428982952545796']\n",
      " ['RoofMatl' '0.007283670641378581']\n",
      " ['Functional' '0.0069449750136429955']\n",
      " ['LandSlope' '0.0035043313189453418']\n",
      " ['Condition2' '0.00200361789885406']\n",
      " ['LowQualFinSF' '0.0005789776828033499']\n",
      " ['Street' '0.00032923710231047565']\n",
      " ['3SsnPorch' '4.0099059268605686e-06']\n",
      " ['Id' '0.0']\n",
      " ['Utilities' '0.0']\n",
      " ['BsmtFinSF2' '0.0']\n",
      " ['PoolArea' '0.0']\n",
      " ['MiscVal' '0.0']\n",
      " ['MoSold' '0.0']]\n"
     ]
    }
   ],
   "source": [
    "mir_result = fs.mutual_info_regression(X,yt) #mutual information regression feature ordering\n",
    "feature_scores = []\n",
    "for i in np.arange(len(included_features)):\n",
    "    feature_scores.append([included_features[i], mir_result[i]])\n",
    "sorted_scores = sorted(np.array(feature_scores), key=lambda s: float(s[1]), reverse = True)\n",
    "print(np.array(sorted_scores))\n"
   ]
  },
  {
   "cell_type": "markdown",
   "metadata": {},
   "source": [
    "# MIR Results: what do homebuyers care about?\n"
   ]
  },
  {
   "cell_type": "markdown",
   "metadata": {},
   "source": [
    "Well, it seems like the most important factors (with respect to sales price) are overall quality, amount of living area, garage car capacity, kitchen quality, and exterior material quality. These seem like fairly intuitve results, at least for somebody with a distant notion of what matters when selecting a house (me).\n",
    "\n",
    "Let's plot the results next to each other for a better visualization..."
   ]
  },
  {
   "cell_type": "code",
   "execution_count": 66,
   "metadata": {},
   "outputs": [
    {
     "data": {
      "image/png": "[encoded data removed]",
      "text/plain": [
       "<Figure size 936x432 with 1 Axes>"
      ]
     },
     "metadata": {
      "needs_background": "light"
     },
     "output_type": "display_data"
    }
   ],
   "source": [
    "#plot\n",
    "fig = plt.figure(figsize=(13,6))\n",
    "ax = fig.add_subplot(111)\n",
    "ind = np.arange(len(included_features))\n",
    "plt.bar(ind, [float(i) for i in np.array(sorted_scores)[:,1]])\n",
    "ax.axes.set_xticks(ind)\n",
    "plt.title('Feature Importances (Mutual Information Regression)')\n",
    "plt.ylabel('Importance')\n",
    "#plt.xlabel('trees in forest')\n",
    "#plt.grid()\n",
    "plt.show()"
   ]
  },
  {
   "cell_type": "markdown",
   "metadata": {},
   "source": [
    "# Feature Purning "
   ]
  },
  {
   "cell_type": "markdown",
   "metadata": {},
   "source": [
    "It seems like the top few dozen features are fairly important...let's take the top 15,20,30,40 and 50 features to train the random forest regressor model we have been working with and compare the performances. We will wrap the necessary model building and plotting code in function first."
   ]
  },
  {
   "cell_type": "code",
   "execution_count": 67,
   "metadata": {},
   "outputs": [],
   "source": [
    "# define a function to do the necessary model building....\n",
    "def getModel(sorted_scores,train,numFeatures):\n",
    "    included_features = np.array(sorted_scores)[:,0][:numFeatures] # ordered list of important features\n",
    "    # define the training data X...\n",
    "    X = train[included_features]\n",
    "    Y = train[['SalePrice']]\n",
    "    # transform categorical data if included in X...\n",
    "    for col in list(X):\n",
    "        if X[col].dtype=='object':\n",
    "            X = getObjectFeature(X, col)\n",
    "    # define the number of estimators to consider\n",
    "    estimators = [2, 5, 10, 15, 20, 25, 30, 35, 40, 45, 50, 55, 60, 65, 70, 75, 80]\n",
    "    mean_rfrs = []\n",
    "    std_rfrs_upper = []\n",
    "    std_rfrs_lower = []\n",
    "    yt = [i for i in Y['SalePrice']]\n",
    "    np.random.seed(11111)\n",
    "    # for each number of estimators, fit the model and find the results for 8-fold cross validation\n",
    "    for i in estimators:\n",
    "        model = rfr(n_estimators=i,max_depth=None)\n",
    "        scores_rfr = cross_val_score(model,X,yt,cv=10,scoring='explained_variance')\n",
    "        mean_rfrs.append(scores_rfr.mean())\n",
    "        std_rfrs_upper.append(scores_rfr.mean()+scores_rfr.std()*2) # for error plotting\n",
    "        std_rfrs_lower.append(scores_rfr.mean()-scores_rfr.std()*2) # for error plotting\n",
    "    return mean_rfrs,std_rfrs_upper,std_rfrs_lower\n",
    "\n",
    "# define a function to plot the model expected variance results...\n",
    "def plotResults(mean_rfrs,std_rfrs_upper,std_rfrs_lower,numFeatures):\n",
    "    fig = plt.figure(figsize=(12,8))\n",
    "    ax = fig.add_subplot(111)\n",
    "    ax.plot(estimators,mean_rfrs,marker='o',\n",
    "           linewidth=4,markersize=12)\n",
    "    ax.fill_between(estimators,std_rfrs_lower,std_rfrs_upper,\n",
    "                    facecolor='green',alpha=0.3,interpolate=True)\n",
    "    ax.set_ylim([-.2,1])\n",
    "    ax.set_xlim([0,80])\n",
    "    plt.title('Expected Variance of Random Forest Regressor: Top %d Features'%numFeatures)\n",
    "    plt.ylabel('Expected Variance')\n",
    "    plt.xlabel('Trees in Forest')\n",
    "    plt.grid()\n",
    "    plt.show()\n",
    "    return"
   ]
  },
  {
   "cell_type": "markdown",
   "metadata": {},
   "source": [
    "Now, let's run the regression model fitting for each of the scenarios listed before."
   ]
  },
  {
   "cell_type": "code",
   "execution_count": 68,
   "metadata": {},
   "outputs": [],
   "source": [
    "from ipykernel import kernelapp as app"
   ]
  },
  {
   "cell_type": "code",
   "execution_count": 69,
   "metadata": {},
   "outputs": [
    {
     "name": "stderr",
     "output_type": "stream",
     "text": [
      "C:\\Users\\PC\\anaconda3\\lib\\site-packages\\ipykernel_launcher.py:15: SettingWithCopyWarning: \n",
      "A value is trying to be set on a copy of a slice from a DataFrame.\n",
      "Try using .loc[row_indexer,col_indexer] = value instead\n",
      "\n",
      "See the caveats in the documentation: https://pandas.pydata.org/pandas-docs/stable/user_guide/indexing.html#returning-a-view-versus-a-copy\n",
      "  from ipykernel import kernelapp as app\n"
     ]
    },
    {
     "data": {
      "image/png": "[encoded data removed]",
      "text/plain": [
       "<Figure size 864x576 with 1 Axes>"
      ]
     },
     "metadata": {
      "needs_background": "light"
     },
     "output_type": "display_data"
    }
   ],
   "source": [
    "# top 15...\n",
    "mean_rfrs,std_rfrs_upper,std_rfrs_lower = getModel(sorted_scores,train,15)\n",
    "plotResults(mean_rfrs,std_rfrs_upper,std_rfrs_lower,15)\n"
   ]
  },
  {
   "cell_type": "code",
   "execution_count": 70,
   "metadata": {},
   "outputs": [
    {
     "name": "stderr",
     "output_type": "stream",
     "text": [
      "C:\\Users\\PC\\anaconda3\\lib\\site-packages\\ipykernel_launcher.py:15: SettingWithCopyWarning: \n",
      "A value is trying to be set on a copy of a slice from a DataFrame.\n",
      "Try using .loc[row_indexer,col_indexer] = value instead\n",
      "\n",
      "See the caveats in the documentation: https://pandas.pydata.org/pandas-docs/stable/user_guide/indexing.html#returning-a-view-versus-a-copy\n",
      "  from ipykernel import kernelapp as app\n"
     ]
    },
    {
     "data": {
      "image/png": "[encoded data removed]",
      "text/plain": [
       "<Figure size 864x576 with 1 Axes>"
      ]
     },
     "metadata": {
      "needs_background": "light"
     },
     "output_type": "display_data"
    }
   ],
   "source": [
    "# top 20...\n",
    "mean_rfrs,std_rfrs_upper,std_rfrs_lower = getModel(sorted_scores,train,20)\n",
    "plotResults(mean_rfrs,std_rfrs_upper,std_rfrs_lower,20)"
   ]
  },
  {
   "cell_type": "code",
   "execution_count": null,
   "metadata": {},
   "outputs": [],
   "source": [
    "# top 30...\n",
    "mean_rfrs,std_rfrs_upper,std_rfrs_lower = getModel(sorted_scores,train,30)\n",
    "plotResults(mean_rfrs,std_rfrs_upper,std_rfrs_lower,30)"
   ]
  },
  {
   "cell_type": "code",
   "execution_count": null,
   "metadata": {},
   "outputs": [],
   "source": [
    "# top 40...\n",
    "mean_rfrs,std_rfrs_upper,std_rfrs_lower = getModel(sorted_scores,train,40)\n",
    "plotResults(mean_rfrs,std_rfrs_upper,std_rfrs_lower,40)"
   ]
  },
  {
   "cell_type": "code",
   "execution_count": null,
   "metadata": {},
   "outputs": [],
   "source": [
    "# top 50...\n",
    "mean_rfrs,std_rfrs_upper,std_rfrs_lower = getModel(sorted_scores,train,50)\n",
    "plotResults(mean_rfrs,std_rfrs_upper,std_rfrs_lower,50)"
   ]
  },
  {
   "cell_type": "code",
   "execution_count": 71,
   "metadata": {},
   "outputs": [
    {
     "name": "stderr",
     "output_type": "stream",
     "text": [
      "C:\\Users\\PC\\anaconda3\\lib\\site-packages\\ipykernel_launcher.py:15: SettingWithCopyWarning: \n",
      "A value is trying to be set on a copy of a slice from a DataFrame.\n",
      "Try using .loc[row_indexer,col_indexer] = value instead\n",
      "\n",
      "See the caveats in the documentation: https://pandas.pydata.org/pandas-docs/stable/user_guide/indexing.html#returning-a-view-versus-a-copy\n",
      "  from ipykernel import kernelapp as app\n"
     ]
    },
    {
     "name": "stdout",
     "output_type": "stream",
     "text": [
      "explained variance scores for k=10 fold validation: [0.84668678 0.89725768 0.89726735 0.84429471 0.86616805 0.90143275\n",
      " 0.88770254 0.90005939 0.8481834  0.85985946]\n",
      "Est. explained variance: 0.87 (+/- 0.05)\n"
     ]
    },
    {
     "data": {
      "text/plain": [
       "RandomForestRegressor(n_estimators=60)"
      ]
     },
     "execution_count": 71,
     "metadata": {},
     "output_type": "execute_result"
    }
   ],
   "source": [
    "# build the model with the desired parameters...\n",
    "numFeatures = 40 # the number of features to inlcude\n",
    "trees = 60 # trees in the forest\n",
    "included_features = np.array(sorted_scores)[:,0][:numFeatures]\n",
    "# define the training data X...\n",
    "X = train[included_features]\n",
    "Y = train[['SalePrice']]\n",
    "# transform categorical data if included in X...\n",
    "for col in list(X):\n",
    "    if X[col].dtype=='object':\n",
    "        X = getObjectFeature(X, col)\n",
    "yt = [i for i in Y['SalePrice']]\n",
    "np.random.seed(11111)\n",
    "model = rfr(n_estimators=trees,max_depth=None)\n",
    "scores_rfr = cross_val_score(model,X,yt,cv=10,scoring='explained_variance')\n",
    "print('explained variance scores for k=10 fold validation:',scores_rfr)\n",
    "print(\"Est. explained variance: %0.2f (+/- %0.2f)\" % (scores_rfr.mean(), scores_rfr.std() * 2))\n",
    "# fit the model\n",
    "model.fit(X,yt)"
   ]
  },
  {
   "cell_type": "code",
   "execution_count": 72,
   "metadata": {},
   "outputs": [],
   "source": [
    "# let's read the test data to be sure...\n",
    "test = pd.read_csv('test.csv')"
   ]
  },
  {
   "cell_type": "code",
   "execution_count": 73,
   "metadata": {},
   "outputs": [],
   "source": [
    "# re-define a function to convert an object (categorical) feature into an int feature\n",
    "# 0 = most common category, highest int = least common.\n",
    "def getObjectFeature(df, col, datalength=1460):\n",
    "    if df[col].dtype!='object': # if it's not categorical..\n",
    "        print('feature',col,'is not an object feature.')\n",
    "        return df\n",
    "    else:\n",
    "        df1 = df\n",
    "        counts = df1[col].value_counts() # get the counts for each label for the feature\n",
    "#         print(col,'labels, common to rare:',counts.index.tolist()) # get an ordered list of the labels\n",
    "        df1[col] = [counts.index.tolist().index(i) \n",
    "                    if i in counts.index.tolist() \n",
    "                    else 0 \n",
    "                    for i in df1[col] ] # do the conversion\n",
    "        return df1 # make the new (integer) column from the conversion"
   ]
  },
  {
   "cell_type": "code",
   "execution_count": 74,
   "metadata": {},
   "outputs": [
    {
     "name": "stderr",
     "output_type": "stream",
     "text": [
      "C:\\Users\\PC\\anaconda3\\lib\\site-packages\\ipykernel_launcher.py:14: SettingWithCopyWarning: \n",
      "A value is trying to be set on a copy of a slice from a DataFrame.\n",
      "Try using .loc[row_indexer,col_indexer] = value instead\n",
      "\n",
      "See the caveats in the documentation: https://pandas.pydata.org/pandas-docs/stable/user_guide/indexing.html#returning-a-view-versus-a-copy\n",
      "  \n"
     ]
    },
    {
     "name": "stdout",
     "output_type": "stream",
     "text": [
      "[11.77143109 11.94109789 12.08597025 ... 11.97899137 11.65568481\n",
      " 12.35762795]\n"
     ]
    }
   ],
   "source": [
    "# apply the model to the test data and get the output...\n",
    "X_test = test[included_features]\n",
    "for col in list(X_test):\n",
    "    if X_test[col].dtype=='object':\n",
    "        X_test = getObjectFeature(X_test, col, datalength=1459)\n",
    "# print(X_test.head(20))\n",
    "y_output = model.predict(X_test.fillna(0)) # get the results and fill nan's with 0\n",
    "print(y_output)"
   ]
  },
  {
   "cell_type": "code",
   "execution_count": 75,
   "metadata": {},
   "outputs": [
    {
     "name": "stdout",
     "output_type": "stream",
     "text": [
      "[129499.34330374 153445.06428634 177365.92566496 ... 159371.20355745\n",
      " 115345.21860237 232728.53013525]\n"
     ]
    }
   ],
   "source": [
    "# transform the data to be sure\n",
    "y_output = np.exp(y_output)\n",
    "print(y_output)"
   ]
  },
  {
   "cell_type": "code",
   "execution_count": 76,
   "metadata": {},
   "outputs": [
    {
     "data": {
      "text/html": [
       "<div>\n",
       "<style scoped>\n",
       "    .dataframe tbody tr th:only-of-type {\n",
       "        vertical-align: middle;\n",
       "    }\n",
       "\n",
       "    .dataframe tbody tr th {\n",
       "        vertical-align: top;\n",
       "    }\n",
       "\n",
       "    .dataframe thead th {\n",
       "        text-align: right;\n",
       "    }\n",
       "</style>\n",
       "<table border=\"1\" class=\"dataframe\">\n",
       "  <thead>\n",
       "    <tr style=\"text-align: right;\">\n",
       "      <th></th>\n",
       "      <th>Id</th>\n",
       "      <th>SalePrice</th>\n",
       "    </tr>\n",
       "  </thead>\n",
       "  <tbody>\n",
       "    <tr>\n",
       "      <th>0</th>\n",
       "      <td>1461</td>\n",
       "      <td>129499.343304</td>\n",
       "    </tr>\n",
       "    <tr>\n",
       "      <th>1</th>\n",
       "      <td>1462</td>\n",
       "      <td>153445.064286</td>\n",
       "    </tr>\n",
       "    <tr>\n",
       "      <th>2</th>\n",
       "      <td>1463</td>\n",
       "      <td>177365.925665</td>\n",
       "    </tr>\n",
       "    <tr>\n",
       "      <th>3</th>\n",
       "      <td>1464</td>\n",
       "      <td>182672.925848</td>\n",
       "    </tr>\n",
       "    <tr>\n",
       "      <th>4</th>\n",
       "      <td>1465</td>\n",
       "      <td>193522.853820</td>\n",
       "    </tr>\n",
       "  </tbody>\n",
       "</table>\n",
       "</div>"
      ],
      "text/plain": [
       "     Id      SalePrice\n",
       "0  1461  129499.343304\n",
       "1  1462  153445.064286\n",
       "2  1463  177365.925665\n",
       "3  1464  182672.925848\n",
       "4  1465  193522.853820"
      ]
     },
     "execution_count": 76,
     "metadata": {},
     "output_type": "execute_result"
    }
   ],
   "source": [
    "# define the data frame for the results\n",
    "saleprice = pd.DataFrame(y_output, columns=['SalePrice'])\n",
    "# print(saleprice.head())\n",
    "# saleprice.tail()\n",
    "results = pd.concat([test['Id'],saleprice['SalePrice']],axis=1)\n",
    "results.head()"
   ]
  },
  {
   "cell_type": "code",
   "execution_count": null,
   "metadata": {},
   "outputs": [],
   "source": []
  }
 ],
 "metadata": {
  "kernelspec": {
   "display_name": "Python 3",
   "language": "python",
   "name": "python3"
  },
  "language_info": {
   "codemirror_mode": {
    "name": "ipython",
    "version": 3
   },
   "file_extension": ".py",
   "mimetype": "text/x-python",
   "name": "python",
   "nbconvert_exporter": "python",
   "pygments_lexer": "ipython3",
   "version": "3.7.6"
  }
 },
 "nbformat": 4,
 "nbformat_minor": 4
}
